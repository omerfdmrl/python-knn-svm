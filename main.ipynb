{
  "nbformat": 4,
  "nbformat_minor": 0,
  "metadata": {
    "colab": {
      "provenance": [],
      "gpuType": "V28"
    },
    "kernelspec": {
      "name": "python3",
      "display_name": "Python 3"
    },
    "language_info": {
      "name": "python"
    },
    "accelerator": "TPU"
  },
  "cells": [
    {
      "cell_type": "code",
      "source": [
        "import kagglehub\n",
        "\n",
        "path = kagglehub.dataset_download(\"raykleptzo/classification-data-apples-oranges\")\n",
        "\n",
        "print(\"Path to dataset files:\", path)\n",
        "!mv /root/.cache/kagglehub/datasets/raykleptzo/classification-data-apples-oranges/versions/1/apples_and_oranges.csv /content/"
      ],
      "metadata": {
        "colab": {
          "base_uri": "https://localhost:8080/"
        },
        "id": "x8LVeyrt8EQI",
        "outputId": "c7844ee8-77a2-4f0d-8f61-725368bab9b1"
      },
      "execution_count": 206,
      "outputs": [
        {
          "output_type": "stream",
          "name": "stdout",
          "text": [
            "Path to dataset files: /root/.cache/kagglehub/datasets/raykleptzo/classification-data-apples-oranges/versions/1\n",
            "mv: cannot stat '/root/.cache/kagglehub/datasets/raykleptzo/classification-data-apples-oranges/versions/1/apples_and_oranges.csv': No such file or directory\n"
          ]
        }
      ]
    },
    {
      "cell_type": "code",
      "source": [
        "import numpy as np\n",
        "import pandas as pd\n",
        "from sklearn.model_selection import train_test_split\n",
        "from sklearn.preprocessing import LabelEncoder\n",
        "\n",
        "data = pd.read_csv('apples_and_oranges.csv')\n",
        "training_set,test_set = train_test_split(data,test_size=0.2,random_state=1)\n",
        "X_train = np.array(training_set.iloc[:,0:2].values).astype(\"float\")\n",
        "y_train = training_set.iloc[:,2].values\n",
        "X_test = np.array(test_set.iloc[:,0:2].values).astype(\"float\")\n",
        "y_test = test_set.iloc[:,2].values\n",
        "\n",
        "lb = LabelEncoder()\n",
        "y_train = np.array(lb.fit_transform(y_train)).astype(\"float\")\n",
        "y_test = np.array(lb.fit_transform(y_test)).astype(\"float\")\n",
        "\n",
        "print(X_train[0:5])\n",
        "print(y_train[0:5])"
      ],
      "metadata": {
        "colab": {
          "base_uri": "https://localhost:8080/"
        },
        "id": "27ZZWuJJw-p9",
        "outputId": "122dac7a-63d3-4f16-bc3b-bab2ae714dfe"
      },
      "execution_count": 207,
      "outputs": [
        {
          "output_type": "stream",
          "name": "stdout",
          "text": [
            "[[74.    5.5 ]\n",
            " [67.    4.01]\n",
            " [72.    5.72]\n",
            " [75.    5.25]\n",
            " [73.    5.78]]\n",
            "[0. 1. 0. 0. 0.]\n"
          ]
        }
      ]
    },
    {
      "cell_type": "code",
      "execution_count": 208,
      "metadata": {
        "id": "PsViJTvxPvsi"
      },
      "outputs": [],
      "source": [
        "class KNN:\n",
        "  def __init__(self, x, y, k):\n",
        "    self.x = x\n",
        "    self.y = y\n",
        "    self.k = k\n",
        "    pass\n",
        "\n",
        "  def predict(self, x):\n",
        "    distances = self.calculate_distances(x)\n",
        "    nn = distances[:self.k]\n",
        "    labels = [n[1] for n in nn]\n",
        "    return np.bincount(labels).argmax()\n",
        "\n",
        "  def euclidean_distance(self, x, y):\n",
        "    return np.sqrt(np.sum((x - y) ** 2))\n",
        "\n",
        "  def calculate_distances(self, x):\n",
        "    distances = []\n",
        "    for i in range(len(self.x)):\n",
        "      distance = self.euclidean_distance(x, self.x[i])\n",
        "      distances.append((distance, self.y[i]))\n",
        "    distances.sort(key=lambda x: x[0])\n",
        "    return distances\n",
        "\n",
        "  def confusion_matrix(self, X_test, y_test):\n",
        "    num_classes = int(max(np.max(self.y), np.max(y_test)) + 1)\n",
        "\n",
        "    cm = np.zeros((num_classes, num_classes), dtype=int)\n",
        "\n",
        "    y_pred = [self.predict(X_test[i]) for i in range(len(X_test))]\n",
        "\n",
        "    for true, pred in zip(y_test, y_pred):\n",
        "        cm[int(true), int(pred)] += 1\n",
        "\n",
        "    return cm\n"
      ]
    },
    {
      "cell_type": "code",
      "source": [
        "from sklearn.preprocessing import StandardScaler\n",
        "scaler = StandardScaler()\n",
        "\n",
        "class SVM:\n",
        "    def __init__(self, x, y, learning_rate=0.001, c=0.01):\n",
        "        self.y = np.where(y <= 0, -1, 1)\n",
        "        self.x = scaler.fit_transform(x)\n",
        "        self.lr = learning_rate\n",
        "        self.c = c\n",
        "        self.w = np.zeros(x.shape[1])\n",
        "        self.b = 0\n",
        "\n",
        "    def fit(self, epoch):\n",
        "        for e in range(epoch):\n",
        "            for idx, x_i in enumerate(self.x):\n",
        "                condition = self.y[idx] * self._predict(x_i) >= 1\n",
        "                if condition:\n",
        "                    self.w -= self.lr * (2 * self.c * self.w)\n",
        "                else:\n",
        "                    self.w -= self.lr * (2 * self.c * self.w - np.dot(x_i, self.y[idx]))\n",
        "                    self.b -= self.lr * self.y[idx]\n",
        "            if e % 100 == 0:\n",
        "              print(\"Epoch:\",e)\n",
        "        else:\n",
        "          print(f\"Training finished,weight = {self.w}, bias = {self.b}\")\n",
        "    def _predict(self, x):\n",
        "        return np.dot(x, self.w) - self.b\n",
        "    def predict(self, X):\n",
        "        return np.sign(self._predict(X))\n",
        "\n",
        "    def confusion_matrix(self, X_test, y_test):\n",
        "      X_test = scaler.transform(X_test)\n",
        "      y_test = np.where(y_test <= 0, -1, 1)\n",
        "      num_classes = int(max(np.max(self.y), np.max(y_test)) + 1)\n",
        "\n",
        "      cm = np.zeros((num_classes, num_classes), dtype=int)\n",
        "\n",
        "      y_pred = [self.predict(X_test[i]) for i in range(len(X_test))]\n",
        "\n",
        "      y_pred_transformed = np.where(np.array(y_pred) == -1, 0, y_pred)\n",
        "      y_test_transformed = np.where(y_test == -1, 0, y_test)\n",
        "\n",
        "      for true, pred in zip(y_test_transformed, y_pred_transformed):\n",
        "          cm[int(true), int(pred)] += 1\n",
        "\n",
        "      return cm"
      ],
      "metadata": {
        "id": "e6dZuIKErNzB"
      },
      "execution_count": 209,
      "outputs": []
    },
    {
      "cell_type": "code",
      "source": [
        "def test_knn(x_train, y_train, x_test, y_test):\n",
        "  print(\"KNN Test\")\n",
        "  knn = KNN(x_train, y_train, 3)\n",
        "  cm = knn.confusion_matrix(x_test, y_test)\n",
        "  pred = knn.predict(x_test[0])\n",
        "  print(\"Input:\", x_test[0])\n",
        "  print(\"Predicted:\", pred)\n",
        "  print(\"Confusion Matrix:\\n\", cm)\n",
        "\n",
        "test_knn(X_train, y_train, X_test, y_test)"
      ],
      "metadata": {
        "colab": {
          "base_uri": "https://localhost:8080/"
        },
        "id": "MkWPxKLZnF3l",
        "outputId": "f65d9444-338d-4a6d-a87e-a325027dfc4d"
      },
      "execution_count": 210,
      "outputs": [
        {
          "output_type": "stream",
          "name": "stdout",
          "text": [
            "KNN Test\n",
            "Input: [65.    4.09]\n",
            "Predicted: 1\n",
            "Confusion Matrix:\n",
            " [[3 0]\n",
            " [1 4]]\n"
          ]
        }
      ]
    },
    {
      "cell_type": "code",
      "source": [
        "def test_svm(x_train, y_train, x_test, y_test):\n",
        "  svm = SVM(x_train, y_train)\n",
        "  svm.fit(1000)\n",
        "  cm = svm.confusion_matrix(x_test, y_test)\n",
        "  pred = svm.predict(x_test[0])\n",
        "  print(\"Input:\", x_test[0])\n",
        "  print(\"Predicted:\", pred)\n",
        "  print(\"Confusion Matrix:\\n\", cm)\n",
        "\n",
        "test_svm(X_train, y_train, X_test, y_test)"
      ],
      "metadata": {
        "colab": {
          "base_uri": "https://localhost:8080/"
        },
        "id": "NP_X7EgTnSAo",
        "outputId": "950daf3b-978e-4666-fa2b-914a5cd65526"
      },
      "execution_count": 211,
      "outputs": [
        {
          "output_type": "stream",
          "name": "stdout",
          "text": [
            "Epoch: 0\n",
            "Epoch: 100\n",
            "Epoch: 200\n",
            "Epoch: 300\n",
            "Epoch: 400\n",
            "Epoch: 500\n",
            "Epoch: 600\n",
            "Epoch: 700\n",
            "Epoch: 800\n",
            "Epoch: 900\n",
            "Training finished,weight = [-0.86247525 -1.38716885], bias = -0.1170000000000001\n",
            "Input: [65.    4.09]\n",
            "Predicted: -1.0\n",
            "Confusion Matrix:\n",
            " [[3 0]\n",
            " [0 5]]\n"
          ]
        }
      ]
    },
    {
      "cell_type": "code",
      "source": [
        "X_flatted = X_train.flatten()\n",
        "\n",
        "choices = np.random.choice(X_flatted.size, np.random.randint(1, X_flatted.size), replace = False)\n",
        "\n",
        "X_flatted[choices] = np.nan\n",
        "X_train_with_nan = X_flatted.reshape(X_train.shape)\n",
        "X_train_with_nan"
      ],
      "metadata": {
        "colab": {
          "base_uri": "https://localhost:8080/"
        },
        "id": "1nSreN6Lt-cx",
        "outputId": "04f5c0f4-d352-4c41-c07d-7324e1bbdbf4"
      },
      "execution_count": 212,
      "outputs": [
        {
          "output_type": "execute_result",
          "data": {
            "text/plain": [
              "array([[74.  ,  5.5 ],\n",
              "       [67.  ,  4.01],\n",
              "       [72.  ,  5.72],\n",
              "       [75.  ,  5.25],\n",
              "       [  nan,  5.78],\n",
              "       [69.  ,  4.76],\n",
              "       [73.  ,  5.17],\n",
              "       [74.  ,  5.25],\n",
              "       [67.  ,  4.7 ],\n",
              "       [74.  ,   nan],\n",
              "       [73.  ,  5.79],\n",
              "       [69.  ,  4.11],\n",
              "       [  nan,  4.08],\n",
              "       [67.  ,  4.25],\n",
              "       [68.  ,  4.83],\n",
              "       [66.  ,  4.13],\n",
              "       [67.  ,  4.18],\n",
              "       [71.  ,  5.35],\n",
              "       [70.  ,  5.56],\n",
              "       [68.  ,  4.47],\n",
              "       [  nan,  5.11],\n",
              "       [70.  ,  5.59],\n",
              "       [69.  ,  4.21],\n",
              "       [69.  ,  4.66],\n",
              "       [69.  ,  4.39],\n",
              "       [65.  ,   nan],\n",
              "       [73.  ,  5.68],\n",
              "       [70.  ,  5.47],\n",
              "       [65.  ,  4.27],\n",
              "       [74.  ,  5.36],\n",
              "       [74.  ,  5.53],\n",
              "       [74.  ,  5.48]])"
            ]
          },
          "metadata": {},
          "execution_count": 212
        }
      ]
    },
    {
      "cell_type": "code",
      "source": [
        "test_knn(X_train_with_nan, y_train, X_test, y_test)"
      ],
      "metadata": {
        "colab": {
          "base_uri": "https://localhost:8080/"
        },
        "id": "UFx3Vff60Kmp",
        "outputId": "663754fc-a95f-4f4a-ee5a-8cd12f0c1742"
      },
      "execution_count": 213,
      "outputs": [
        {
          "output_type": "stream",
          "name": "stdout",
          "text": [
            "KNN Test\n",
            "Input: [65.    4.09]\n",
            "Predicted: 1\n",
            "Confusion Matrix:\n",
            " [[3 0]\n",
            " [1 4]]\n"
          ]
        }
      ]
    },
    {
      "cell_type": "code",
      "source": [
        "try:\n",
        "  test_svm(X_train_with_nan, y_train, X_test, y_test)\n",
        "except Exception as e:\n",
        "  print(e)"
      ],
      "metadata": {
        "colab": {
          "base_uri": "https://localhost:8080/"
        },
        "id": "qaiD-ONZ3K-P",
        "outputId": "72c2b0a5-b923-486b-a601-d5525b46031f"
      },
      "execution_count": 214,
      "outputs": [
        {
          "output_type": "stream",
          "name": "stdout",
          "text": [
            "Epoch: 0\n",
            "Epoch: 100\n",
            "Epoch: 200\n",
            "Epoch: 300\n",
            "Epoch: 400\n",
            "Epoch: 500\n",
            "Epoch: 600\n",
            "Epoch: 700\n",
            "Epoch: 800\n",
            "Epoch: 900\n",
            "Training finished,weight = [nan nan], bias = 1.9999999999998908\n",
            "cannot convert float NaN to integer\n"
          ]
        }
      ]
    },
    {
      "cell_type": "code",
      "source": [
        "X_train_with_mean = X_train_with_nan.copy()\n",
        "col_means = np.nanmean(X_train, axis=0)\n",
        "inds = np.where(np.isnan(X_train_with_nan))\n",
        "X_train_with_mean[inds] = np.take(col_means, inds[1])\n",
        "X_train_with_mean"
      ],
      "metadata": {
        "colab": {
          "base_uri": "https://localhost:8080/"
        },
        "id": "wbYEK7e-3SnY",
        "outputId": "eb2e2411-a67d-4c26-a675-bb1faa7a65fd"
      },
      "execution_count": 215,
      "outputs": [
        {
          "output_type": "execute_result",
          "data": {
            "text/plain": [
              "array([[74.      ,  5.5     ],\n",
              "       [67.      ,  4.01    ],\n",
              "       [72.      ,  5.72    ],\n",
              "       [75.      ,  5.25    ],\n",
              "       [70.375   ,  5.78    ],\n",
              "       [69.      ,  4.76    ],\n",
              "       [73.      ,  5.17    ],\n",
              "       [74.      ,  5.25    ],\n",
              "       [67.      ,  4.7     ],\n",
              "       [74.      ,  4.948125],\n",
              "       [73.      ,  5.79    ],\n",
              "       [69.      ,  4.11    ],\n",
              "       [70.375   ,  4.08    ],\n",
              "       [67.      ,  4.25    ],\n",
              "       [68.      ,  4.83    ],\n",
              "       [66.      ,  4.13    ],\n",
              "       [67.      ,  4.18    ],\n",
              "       [71.      ,  5.35    ],\n",
              "       [70.      ,  5.56    ],\n",
              "       [68.      ,  4.47    ],\n",
              "       [70.375   ,  5.11    ],\n",
              "       [70.      ,  5.59    ],\n",
              "       [69.      ,  4.21    ],\n",
              "       [69.      ,  4.66    ],\n",
              "       [69.      ,  4.39    ],\n",
              "       [65.      ,  4.948125],\n",
              "       [73.      ,  5.68    ],\n",
              "       [70.      ,  5.47    ],\n",
              "       [65.      ,  4.27    ],\n",
              "       [74.      ,  5.36    ],\n",
              "       [74.      ,  5.53    ],\n",
              "       [74.      ,  5.48    ]])"
            ]
          },
          "metadata": {},
          "execution_count": 215
        }
      ]
    },
    {
      "cell_type": "code",
      "source": [
        "test_knn(X_train_with_mean, y_train, X_test, y_test)"
      ],
      "metadata": {
        "colab": {
          "base_uri": "https://localhost:8080/"
        },
        "id": "diafW6OH31Cl",
        "outputId": "954ef311-3884-49cb-8f9b-8cc6f132ff38"
      },
      "execution_count": 216,
      "outputs": [
        {
          "output_type": "stream",
          "name": "stdout",
          "text": [
            "KNN Test\n",
            "Input: [65.    4.09]\n",
            "Predicted: 1\n",
            "Confusion Matrix:\n",
            " [[3 0]\n",
            " [1 4]]\n"
          ]
        }
      ]
    },
    {
      "cell_type": "code",
      "source": [
        "test_svm(X_train_with_mean, y_train, X_test, y_test)"
      ],
      "metadata": {
        "colab": {
          "base_uri": "https://localhost:8080/"
        },
        "id": "BFKTz-KY35pk",
        "outputId": "e670ca24-77df-40b2-df6c-eeb859992df2"
      },
      "execution_count": 217,
      "outputs": [
        {
          "output_type": "stream",
          "name": "stdout",
          "text": [
            "Epoch: 0\n",
            "Epoch: 100\n",
            "Epoch: 200\n",
            "Epoch: 300\n",
            "Epoch: 400\n",
            "Epoch: 500\n",
            "Epoch: 600\n",
            "Epoch: 700\n",
            "Epoch: 800\n",
            "Epoch: 900\n",
            "Training finished,weight = [-0.93760545 -1.233349  ], bias = -0.016000000000000014\n",
            "Input: [65.    4.09]\n",
            "Predicted: -1.0\n",
            "Confusion Matrix:\n",
            " [[3 0]\n",
            " [0 5]]\n"
          ]
        }
      ]
    },
    {
      "cell_type": "code",
      "source": [
        "import matplotlib.pyplot as plt\n",
        "knn_cm = KNN(X_train, y_train, k=3).confusion_matrix(X_test, y_test)\n",
        "svm_cm = SVM(X_train, y_train)\n",
        "svm_cm.fit(1000)\n",
        "svm_cm = svm_cm.confusion_matrix(X_test, y_test)\n",
        "\n",
        "knn_nan_cm = KNN(X_train_with_nan, y_train, k=3).confusion_matrix(X_test, y_test)\n",
        "try:\n",
        "  svm_nan_cm = SVM(X_train_with_nan, y_train)\n",
        "  svm_nan_cm.fit(1000)\n",
        "  svm_nan_cm = svm_nan_cm.confusion_matrix(X_test, y_test)\n",
        "except Exception as e:\n",
        "  print(e)\n",
        "\n",
        "knn_mean_cm = KNN(X_train_with_mean, y_train, k=3).confusion_matrix(X_test, y_test)\n",
        "svm_mean_cm = SVM(X_train_with_mean, y_train)\n",
        "svm_mean_cm.fit(1000)\n",
        "svm_mean_cm = svm_mean_cm.confusion_matrix(X_test, y_test)"
      ],
      "metadata": {
        "id": "OWyxMUYf38EF",
        "colab": {
          "base_uri": "https://localhost:8080/"
        },
        "outputId": "8a53e3b3-a9bd-495f-d9c6-dcbbf11f930b"
      },
      "execution_count": 218,
      "outputs": [
        {
          "output_type": "stream",
          "name": "stdout",
          "text": [
            "Epoch: 0\n",
            "Epoch: 100\n",
            "Epoch: 200\n",
            "Epoch: 300\n",
            "Epoch: 400\n",
            "Epoch: 500\n",
            "Epoch: 600\n",
            "Epoch: 700\n",
            "Epoch: 800\n",
            "Epoch: 900\n",
            "Training finished,weight = [-0.86247525 -1.38716885], bias = -0.1170000000000001\n",
            "Epoch: 0\n",
            "Epoch: 100\n",
            "Epoch: 200\n",
            "Epoch: 300\n",
            "Epoch: 400\n",
            "Epoch: 500\n",
            "Epoch: 600\n",
            "Epoch: 700\n",
            "Epoch: 800\n",
            "Epoch: 900\n",
            "Training finished,weight = [nan nan], bias = 1.9999999999998908\n",
            "cannot convert float NaN to integer\n",
            "Epoch: 0\n",
            "Epoch: 100\n",
            "Epoch: 200\n",
            "Epoch: 300\n",
            "Epoch: 400\n",
            "Epoch: 500\n",
            "Epoch: 600\n",
            "Epoch: 700\n",
            "Epoch: 800\n",
            "Epoch: 900\n",
            "Training finished,weight = [-0.93760545 -1.233349  ], bias = -0.016000000000000014\n"
          ]
        }
      ]
    },
    {
      "cell_type": "code",
      "source": [
        "def plot_confusion_matrix(cm, title, ax):\n",
        "    ax.matshow(cm, cmap='Blues', alpha=0.75)\n",
        "    for i in range(cm.shape[0]):\n",
        "        for j in range(cm.shape[1]):\n",
        "            ax.text(x=j, y=i, s=cm[i, j], va='center', ha='center')\n",
        "    ax.set_title(title)\n",
        "    ax.set_xlabel('Predicted Label')\n",
        "    ax.set_ylabel('True Label')"
      ],
      "metadata": {
        "id": "6URXlNqk4n7P"
      },
      "execution_count": 219,
      "outputs": []
    },
    {
      "cell_type": "code",
      "source": [
        "fig, axes = plt.subplots(3, 2, figsize=(12, 6))\n",
        "\n",
        "plot_confusion_matrix(knn_cm, title=\"KNN Confusion Matrix\", ax=axes[0,0])\n",
        "\n",
        "plot_confusion_matrix(svm_cm, title=\"SVM Confusion Matrix\", ax=axes[0,1])\n",
        "\n",
        "plot_confusion_matrix(knn_nan_cm, title=\"KNN With NAN Confusion Matrix\", ax=axes[1,0])\n",
        "\n",
        "try:\n",
        "  plot_confusion_matrix(svm_nan_cm, title=\"SVM With NAN Confusion Matrix\", ax=axes[1,1])\n",
        "except Exception as e:\n",
        "  print(e)\n",
        "\n",
        "plot_confusion_matrix(knn_mean_cm, title=\"KNN With Mean Confusion Matrix\", ax=axes[2,0])\n",
        "\n",
        "plot_confusion_matrix(svm_mean_cm, title=\"SVM With Mean Confusion Matrix\", ax=axes[2,1])\n",
        "\n",
        "plt.tight_layout()\n",
        "plt.show()"
      ],
      "metadata": {
        "colab": {
          "base_uri": "https://localhost:8080/",
          "height": 644
        },
        "id": "YMVsMQN54oku",
        "outputId": "df078897-15cf-4ced-c8ba-2a7e396d8cb2"
      },
      "execution_count": 220,
      "outputs": [
        {
          "output_type": "stream",
          "name": "stdout",
          "text": [
            "Image data of dtype object cannot be converted to float\n"
          ]
        },
        {
          "output_type": "display_data",
          "data": {
            "text/plain": [
              "<Figure size 1200x600 with 6 Axes>"
            ],
            "image/png": "[encoded data removed]"
          },
          "metadata": {}
        }
      ]
    }
  ]
}